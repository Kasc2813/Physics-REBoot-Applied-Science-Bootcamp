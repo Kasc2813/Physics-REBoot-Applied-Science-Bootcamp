{
  "nbformat": 4,
  "nbformat_minor": 0,
  "metadata": {
    "colab": {
      "name": "Piedra_Papel_Tijeras.ipynb",
      "provenance": [],
      "authorship_tag": "ABX9TyOekspXYxVnVYYheytddkKW",
      "include_colab_link": true
    },
    "kernelspec": {
      "name": "python3",
      "display_name": "Python 3"
    },
    "language_info": {
      "name": "python"
    }
  },
  "cells": [
    {
      "cell_type": "markdown",
      "metadata": {
        "id": "view-in-github",
        "colab_type": "text"
      },
      "source": [
        "<a href=\"https://colab.research.google.com/github/Kasc2813/Physics-REBoot-Applied-Science-Bootcamp/blob/main/Piedra_Papel_Tijeras.ipynb\" target=\"_parent\"><img src=\"https://colab.research.google.com/assets/colab-badge.svg\" alt=\"Open In Colab\"/></a>"
      ]
    },
    {
      "cell_type": "markdown",
      "metadata": {
        "id": "F0aR8aJ2jOAJ"
      },
      "source": [
        "**Vamos a retar a la computadora a jugar piedra, papel o tijeras**"
      ]
    },
    {
      "cell_type": "code",
      "metadata": {
        "colab": {
          "base_uri": "https://localhost:8080/"
        },
        "id": "wjpGyH8vi8cM",
        "outputId": "dee75728-4cb8-4617-ba01-c37633191904"
      },
      "source": [
        "import numpy as np \n",
        "\n",
        "\n",
        "\"\"\" Piedra=0 \n",
        "    Papel=1 \n",
        "    Tijeras=2\"\"\" \n",
        "\n",
        "#Para jugar, escoje una mano y escribe el numero correspondiente\n",
        "Usuario=1 \n",
        "\n",
        "print(\"Usuario=%i\"%(Usuario))\n",
        "Comp=np.random.randint(0,3)\n",
        "print(\"Comp=%i\"%(Comp))\n",
        "\n",
        "if Usuario==Comp: \n",
        "    print(\"Resultado = Empate\") \n",
        "else:\n",
        "        if (Comp-Usuario)==1: \n",
        "            print(\"Resultado = Perdio\") \n",
        "        else: \n",
        "            print (\"Resultado = Gano\")"
      ],
      "execution_count": null,
      "outputs": [
        {
          "output_type": "stream",
          "text": [
            "Usuario=1\n",
            "Comp=0\n",
            "Resultado = Gano\n"
          ],
          "name": "stdout"
        }
      ]
    }
  ]
}